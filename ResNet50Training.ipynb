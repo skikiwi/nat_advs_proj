{
  "cells": [
    {
      "cell_type": "code",
      "execution_count": 1,
      "metadata": {
        "id": "ITVT5-_tTQU7"
      },
      "outputs": [],
      "source": [
        "import numpy as np\n",
        "import tensorflow as tf\n",
        "from tensorflow.keras.applications import ResNet50\n",
        "from tensorflow.keras.applications.resnet50 import preprocess_input\n",
        "from tensorflow.keras.optimizers import Adam\n",
        "from utils import get_imagenet_classes\n",
        "# from tensorflow.keras.utils import to_categorical"
      ]
    },
    {
      "cell_type": "code",
      "execution_count": 2,
      "metadata": {
        "id": "JwJAMTz5TaY7"
      },
      "outputs": [],
      "source": [
        "# get labels and mask corresponding to imagenet-a labels and imagenet-1k\n",
        "\n",
        "all_wnids, imagenet_a_wnids, imagenet_a_mask = get_imagenet_classes()\n"
      ]
    },
    {
      "cell_type": "code",
      "execution_count": 3,
      "metadata": {},
      "outputs": [],
      "source": [
        "# create a matrix mapping from imagenet-a to imagenet-1k one-hot encodings\n",
        "mask_matr = np.zeros((1000,200))\n",
        "mask_inds = np.argwhere(imagenet_a_mask).flatten()\n",
        "for j in range(200):\n",
        "    mask_matr[mask_inds[j],j]=1\n",
        "\n",
        "#make this a tf tensor\n",
        "mask_tens = tf.convert_to_tensor(mask_matr, dtype=tf.float32)"
      ]
    },
    {
      "cell_type": "code",
      "execution_count": 7,
      "metadata": {
        "colab": {
          "base_uri": "https://localhost:8080/"
        },
        "id": "Yhvu9hADTd9E",
        "outputId": "57567186-9274-449a-f189-9e1048c88e5b"
      },
      "outputs": [
        {
          "name": "stdout",
          "output_type": "stream",
          "text": [
            "Found 661 files belonging to 200 classes.\n",
            "Found 5922 files belonging to 200 classes.\n"
          ]
        }
      ],
      "source": [
        "# drive mount / link to directory\n",
        "\n",
        "val_dir1 = \"C:/Users/laure/Documents/nat_advs_proj/imagenet-a-split/val\"\n",
        "train_dir1 = \"C:/Users/laure/Documents/nat_advs_proj/imagenet-a-split/train\"\n",
        "\n",
        "#load val/test to keras dataset from directory provided\n",
        "# the image labels are stored as integers according to the folder names and the\n",
        "# ordering provided by imagenet_a_wnids\n",
        "batch_size = 32\n",
        "val_dataset1 = tf.keras.preprocessing.image_dataset_from_directory(val_dir1, labels='inferred', batch_size=None, label_mode=\"categorical\",\n",
        "                                                                    shuffle=False, class_names = imagenet_a_wnids)\n",
        "train_dataset1 = tf.keras.preprocessing.image_dataset_from_directory(train_dir1, labels='inferred', batch_size=None, label_mode=\"categorical\",\n",
        "                                                                      shuffle=True, class_names = imagenet_a_wnids)\n",
        "\n",
        "# Define the preprocessing function\n",
        "def preproc(tensor, y):\n",
        "    # image processing\n",
        "    tensor = tf.image.random_crop(tensor, size=(224, 224, 3))\n",
        "    tensor = preprocess_input(tensor)\n",
        "\n",
        "    # distribute correct labels to the 1000 imagenet classes\n",
        "    y_new = tf.matmul(mask_tens,tf.reshape(y,(200,1)))\n",
        "    y_new = tf.reshape(y_new,(1000,))\n",
        "    return tensor, y_new\n",
        "\n",
        "# Preprocess and batch the validation dataset\n",
        "normalized_val_ds = val_dataset1.map(preproc).batch(32)\n",
        "\n",
        "# Preprocess and batch the training dataset\n",
        "normalized_train_ds = train_dataset1.map(preproc).batch(32)\n",
        "\n",
        "# Get the number of classes\n",
        "num_classes = len(val_dataset1.class_names)\n"
      ]
    },
    {
      "cell_type": "markdown",
      "metadata": {},
      "source": [
        "### Training"
      ]
    },
    {
      "cell_type": "code",
      "execution_count": 8,
      "metadata": {},
      "outputs": [
        {
          "name": "stdout",
          "output_type": "stream",
          "text": [
            "Epoch 1/2\n",
            "\u001b[1m186/186\u001b[0m \u001b[32m━━━━━━━━━━━━━━━━━━━━\u001b[0m\u001b[37m\u001b[0m \u001b[1m1117s\u001b[0m 6s/step - categorical_accuracy: 0.0308 - loss: 5.5577 - val_categorical_accuracy: 0.0575 - val_loss: 4.7806\n",
            "Epoch 2/2\n",
            "\u001b[1m186/186\u001b[0m \u001b[32m━━━━━━━━━━━━━━━━━━━━\u001b[0m\u001b[37m\u001b[0m \u001b[1m1075s\u001b[0m 6s/step - categorical_accuracy: 0.0641 - loss: 4.4403 - val_categorical_accuracy: 0.0560 - val_loss: 4.6814\n"
          ]
        }
      ],
      "source": [
        "# Load ResNet50 with ImageNet-1k weights\n",
        "base_model = ResNet50(include_top=True,\n",
        "                      weights='imagenet',\n",
        "                      input_tensor=None,\n",
        "                      input_shape=None,\n",
        "                      pooling='avg')\n",
        "\n",
        "# Compile the model\n",
        "base_model.compile(optimizer=Adam(), loss=tf.keras.losses.CategoricalCrossentropy(), metrics=[tf.keras.metrics.CategoricalAccuracy()])\n",
        "\n",
        "# Train the model on the training dataset\n",
        "base_model.fit(normalized_train_ds, epochs=2, validation_data=normalized_val_ds)\n",
        "base_model.save('my_model_2epochs.keras')"
      ]
    },
    {
      "cell_type": "markdown",
      "metadata": {},
      "source": [
        "### Final Test on Validation Set"
      ]
    },
    {
      "cell_type": "code",
      "execution_count": 9,
      "metadata": {
        "id": "1s_xcda5TjOC"
      },
      "outputs": [],
      "source": [
        "image_labels = np.array([y for x, y in val_dataset1])\n",
        "\n",
        "def get_predictions(dset, real_labels, net=None, mask=None):\n",
        "\n",
        "    # predict labels based on network\n",
        "    outputs = net.predict(dset)\n",
        "\n",
        "    # mask outputs to only be imagenet-a related\n",
        "    mask_outputs = outputs[:,mask]\n",
        "    \n",
        "    # take argmax of the imagenet-a related labels ONLY\n",
        "    pred = np.argmax(mask_outputs,axis=1)\n",
        "    lab_max= np.argmax(real_labels,axis=1)\n",
        "\n",
        "    # compare to real labels\n",
        "    num_correct = np.array(pred==lab_max).sum()\n",
        "\n",
        "    #output correct examples\n",
        "    correct = np.argwhere(pred==lab_max)\n",
        "    \n",
        "    return correct, num_correct\n",
        "\n",
        "\n",
        "def get_imagenet_a_results(loader, net, real_labels, mask=None):\n",
        "    correct, num_correct = get_predictions(loader, real_labels, net, mask)\n",
        "    acc = num_correct / real_labels.shape[0]\n",
        "    print('Accuracy (%):', round(100*acc, 4))\n",
        "\n",
        "    return correct"
      ]
    },
    {
      "cell_type": "code",
      "execution_count": 10,
      "metadata": {
        "colab": {
          "base_uri": "https://localhost:8080/"
        },
        "id": "zS1MeS185v2O",
        "outputId": "21515aad-6c95-4bdf-eed4-861e2acecd0f"
      },
      "outputs": [
        {
          "name": "stdout",
          "output_type": "stream",
          "text": [
            "\u001b[1m21/21\u001b[0m \u001b[32m━━━━━━━━━━━━━━━━━━━━\u001b[0m\u001b[37m\u001b[0m \u001b[1m27s\u001b[0m 1s/step\n",
            "Accuracy (%): 5.295\n"
          ]
        }
      ],
      "source": [
        "correct_labs = get_imagenet_a_results(normalized_val_ds, base_model, image_labels, imagenet_a_mask)"
      ]
    },
    {
      "cell_type": "code",
      "execution_count": 11,
      "metadata": {},
      "outputs": [
        {
          "data": {
            "text/plain": [
              "array([[  0],\n",
              "       [  6],\n",
              "       [ 16],\n",
              "       [ 44],\n",
              "       [ 59],\n",
              "       [ 79],\n",
              "       [111],\n",
              "       [127],\n",
              "       [142],\n",
              "       [147],\n",
              "       [155],\n",
              "       [157],\n",
              "       [168],\n",
              "       [188],\n",
              "       [197],\n",
              "       [202],\n",
              "       [203],\n",
              "       [204],\n",
              "       [277],\n",
              "       [286],\n",
              "       [287],\n",
              "       [300],\n",
              "       [303],\n",
              "       [326],\n",
              "       [328],\n",
              "       [329],\n",
              "       [332],\n",
              "       [333],\n",
              "       [464],\n",
              "       [483],\n",
              "       [484],\n",
              "       [559],\n",
              "       [629],\n",
              "       [630],\n",
              "       [631]], dtype=int64)"
            ]
          },
          "execution_count": 11,
          "metadata": {},
          "output_type": "execute_result"
        }
      ],
      "source": [
        "correct_labs"
      ]
    },
    {
      "cell_type": "markdown",
      "metadata": {},
      "source": [
        "### Final Test on Test Set"
      ]
    },
    {
      "cell_type": "code",
      "execution_count": 12,
      "metadata": {},
      "outputs": [
        {
          "name": "stdout",
          "output_type": "stream",
          "text": [
            "Found 917 files belonging to 200 classes.\n"
          ]
        }
      ],
      "source": [
        "test_dir1 = \"C:/Users/laure/Documents/nat_advs_proj/imagenet-a-split/test\"\n",
        "\n",
        "test_dataset1 = tf.keras.preprocessing.image_dataset_from_directory(test_dir1, labels='inferred', batch_size=None, label_mode=\"categorical\",\n",
        "                                                                    shuffle=False, class_names = imagenet_a_wnids)\n",
        "normalized_test_ds = test_dataset1.map(preproc).batch(32)\n"
      ]
    },
    {
      "cell_type": "code",
      "execution_count": 13,
      "metadata": {},
      "outputs": [
        {
          "name": "stdout",
          "output_type": "stream",
          "text": [
            "\u001b[1m29/29\u001b[0m \u001b[32m━━━━━━━━━━━━━━━━━━━━\u001b[0m\u001b[37m\u001b[0m \u001b[1m34s\u001b[0m 1s/step\n",
            "Accuracy (%): 4.6892\n"
          ]
        }
      ],
      "source": [
        "image_labels = np.array([y for x, y in test_dataset1])\n",
        "\n",
        "correct_labs = get_imagenet_a_results(normalized_test_ds, base_model, image_labels, imagenet_a_mask)"
      ]
    },
    {
      "cell_type": "code",
      "execution_count": 14,
      "metadata": {},
      "outputs": [
        {
          "data": {
            "text/plain": [
              "array([[  0],\n",
              "       [  1],\n",
              "       [  5],\n",
              "       [ 11],\n",
              "       [ 16],\n",
              "       [ 18],\n",
              "       [ 49],\n",
              "       [ 57],\n",
              "       [ 62],\n",
              "       [ 63],\n",
              "       [ 74],\n",
              "       [ 89],\n",
              "       [ 91],\n",
              "       [ 92],\n",
              "       [133],\n",
              "       [171],\n",
              "       [210],\n",
              "       [227],\n",
              "       [237],\n",
              "       [242],\n",
              "       [252],\n",
              "       [369],\n",
              "       [372],\n",
              "       [390],\n",
              "       [392],\n",
              "       [394],\n",
              "       [395],\n",
              "       [398],\n",
              "       [400],\n",
              "       [464],\n",
              "       [475],\n",
              "       [519],\n",
              "       [569],\n",
              "       [595],\n",
              "       [743],\n",
              "       [745],\n",
              "       [864],\n",
              "       [865],\n",
              "       [866],\n",
              "       [890],\n",
              "       [902],\n",
              "       [906],\n",
              "       [911]], dtype=int64)"
            ]
          },
          "execution_count": 14,
          "metadata": {},
          "output_type": "execute_result"
        }
      ],
      "source": [
        "correct_labs"
      ]
    },
    {
      "cell_type": "code",
      "execution_count": null,
      "metadata": {},
      "outputs": [],
      "source": []
    }
  ],
  "metadata": {
    "accelerator": "GPU",
    "colab": {
      "gpuType": "L4",
      "machine_shape": "hm",
      "provenance": []
    },
    "kernelspec": {
      "display_name": "Python 3",
      "name": "python3"
    },
    "language_info": {
      "codemirror_mode": {
        "name": "ipython",
        "version": 3
      },
      "file_extension": ".py",
      "mimetype": "text/x-python",
      "name": "python",
      "nbconvert_exporter": "python",
      "pygments_lexer": "ipython3",
      "version": "3.11.8"
    }
  },
  "nbformat": 4,
  "nbformat_minor": 0
}
